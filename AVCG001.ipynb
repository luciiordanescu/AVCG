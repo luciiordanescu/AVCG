{
 "cells": [
  {
   "cell_type": "code",
   "execution_count": null,
   "id": "6f2c5a19-8338-4126-932c-1769100f4bc0",
   "metadata": {},
   "outputs": [],
   "source": [
    "from IPython.core.interactiveshell import InteractiveShell\n",
    "InteractiveShell.ast_node_interactivity = \"all\""
   ]
  },
  {
   "cell_type": "code",
   "execution_count": null,
   "id": "ba8fb803-8f6f-41eb-9b43-0352d549584e",
   "metadata": {},
   "outputs": [],
   "source": [
    "import sys, os, pathlib, shutil, platform\n",
    "import pandas as pd\n",
    "import numpy as np\n",
    "import matplotlib.pyplot as plt\n",
    "\n",
    "from sklearn.linear_model import LogisticRegression\n",
    "from sklearn.neighbors import KNeighborsClassifier\n",
    "from sklearn import svm\n",
    "from sklearn.ensemble import RandomForestClassifier\n",
    "from sklearn.feature_selection import RFE, RFECV\n",
    "\n",
    "from sklearn.metrics import (\n",
    "    classification_report,\n",
    "    confusion_matrix,\n",
    "    accuracy_score,\n",
    "    roc_auc_score,\n",
    "    roc_curve,\n",
    "    auc,\n",
    ")\n",
    "from sklearn.model_selection import (\n",
    "    train_test_split, \n",
    "    StratifiedShuffleSplit,\n",
    "    StratifiedKFold,\n",
    ")\n",
    "\n",
    "from sklearn.preprocessing import OrdinalEncoder\n",
    "\n",
    "from sklearn.compose import make_column_transformer\n",
    "from sklearn.impute import SimpleImputer\n",
    "from sklearn.pipeline import make_pipeline\n",
    "from sklearn.preprocessing import OneHotEncoder\n",
    "from sklearn.preprocessing import OrdinalEncoder\n",
    "from sklearn.preprocessing import StandardScaler"
   ]
  },
  {
   "cell_type": "code",
   "execution_count": null,
   "id": "a704187a-63ab-47a7-94d1-6fcda371a8cc",
   "metadata": {},
   "outputs": [],
   "source": [
    "!pwd\n"
   ]
  },
  {
   "cell_type": "code",
   "execution_count": null,
   "id": "a3ea291f-7e26-4c90-958b-c2f21a41c556",
   "metadata": {},
   "outputs": [],
   "source": [
    "! ls -la ./../../data/aviationMLCapstoneProjectData/DL_SelectFields_JAN_2022/T_T100_SEGMENT_ALL_CARRIER.csv"
   ]
  },
  {
   "cell_type": "code",
   "execution_count": null,
   "id": "6a0ed087-f435-4ebd-9d3b-aa7cd0b58d04",
   "metadata": {},
   "outputs": [],
   "source": [
    "dataFileName='T_T100_SEGMENT_ALL_CARRIER.csv'\n",
    "dataPathFull= pathlib.Path('./../../data/aviationMLCapstoneProjectData/DL_SelectFields_JAN_2022') / dataFileName\n",
    "myData = pd.read_csv(str(dataPathFull)) "
   ]
  },
  {
   "cell_type": "code",
   "execution_count": null,
   "id": "3768a158-96d6-4c80-a7c5-b2f1ff07153c",
   "metadata": {},
   "outputs": [],
   "source": [
    "# dir(dataPathFull)\n",
    "dataPathFull.drive"
   ]
  },
  {
   "cell_type": "code",
   "execution_count": null,
   "id": "c739dbf7-bf8a-4caa-aec6-71b9668ac7fa",
   "metadata": {},
   "outputs": [],
   "source": [
    "myData.describe()"
   ]
  },
  {
   "cell_type": "code",
   "execution_count": null,
   "id": "b3948b67-a631-4dcf-a26e-6b97d17867af",
   "metadata": {},
   "outputs": [],
   "source": []
  },
  {
   "cell_type": "code",
   "execution_count": null,
   "id": "8ba91f28-4cc3-4dda-8aad-493f14085be9",
   "metadata": {},
   "outputs": [],
   "source": []
  },
  {
   "cell_type": "code",
   "execution_count": null,
   "id": "05a614b9-9a97-4fa9-b0b2-5529610f2759",
   "metadata": {},
   "outputs": [],
   "source": []
  },
  {
   "cell_type": "code",
   "execution_count": null,
   "id": "299dd450-9739-42ed-87b3-55b52e544e89",
   "metadata": {},
   "outputs": [],
   "source": []
  },
  {
   "cell_type": "code",
   "execution_count": null,
   "id": "c83a2d36-2f08-40b4-a967-c02f6009f6bd",
   "metadata": {},
   "outputs": [],
   "source": []
  },
  {
   "cell_type": "code",
   "execution_count": null,
   "id": "2f0bd472-08aa-4e15-8ec5-c9c2c52a4ffa",
   "metadata": {},
   "outputs": [],
   "source": []
  },
  {
   "cell_type": "code",
   "execution_count": null,
   "id": "6271f506-8c65-4047-9036-f4dcd28eef4d",
   "metadata": {},
   "outputs": [],
   "source": []
  }
 ],
 "metadata": {
  "kernelspec": {
   "display_name": "Python 3 (ipykernel)",
   "language": "python",
   "name": "python3"
  },
  "language_info": {
   "codemirror_mode": {
    "name": "ipython",
    "version": 3
   },
   "file_extension": ".py",
   "mimetype": "text/x-python",
   "name": "python",
   "nbconvert_exporter": "python",
   "pygments_lexer": "ipython3",
   "version": "3.8.10"
  }
 },
 "nbformat": 4,
 "nbformat_minor": 5
}
